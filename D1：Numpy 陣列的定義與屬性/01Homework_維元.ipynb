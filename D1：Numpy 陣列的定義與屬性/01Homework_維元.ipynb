{
 "cells": [
  {
   "cell_type": "markdown",
   "metadata": {
    "id": "P6xk2_jLsvFF"
   },
   "source": [
    "# [作業目標]\n",
    "\n",
    "1. [簡答題] 請問下列兩種將 Array 轉換成 List 的方式有何不同？\n",
    "\n",
    "```\n",
    "print('list(a): ', list(a))\n",
    "print('tolist(): ', a.tolist())\n",
    "```\n",
    "\n",
    "2. 請試著在程式中印出以下三個 NdArray 的屬性？（屬性：ndim、shape、size、dtype、itemsize、length、type）\n",
    "\n",
    "```\n",
    "a = np.random.randint(10, size=6) \n",
    "b = np.random.randint(10, size=(3,4)) \n",
    "c = np.random.randint(10, size=(2,3,2)) \n",
    "```\n",
    "\n",
    "3. 如何利用 list(...) 實現 a.tolist() 的效果？試著用程式實作。\n"
   ]
  },
  {
   "cell_type": "markdown",
   "metadata": {
    "id": "uXGll28asvFS"
   },
   "source": [
    "# 作業 "
   ]
  },
  {
   "cell_type": "markdown",
   "metadata": {
    "id": "SYkvkp9YLwB7"
   },
   "source": [
    "### 1. [簡答題] 請問下列兩種將 Array 轉換成 List 的方式有何不同？\n",
    "\n",
    "```\n",
    "print('list(a): ', list(a))\n",
    "print('tolist(): ', a.tolist())\n",
    "```\n"
   ]
  },
  {
   "cell_type": "markdown",
   "metadata": {
    "id": "5QrYoyNWsvFS",
    "outputId": "13f374d0-6f1b-47aa-bbac-c7d1a8c6995c"
   },
   "source": [
    "#list()只會把第一層的元素轉換成 List，多層的話只有第一層會轉；\n",
    "\n",
    "print('list(a): ', list(a))\n",
    "\n",
    "#tolist()才能達成多層的型態轉換。\n",
    "\n",
    "print('tolist(): ', a.tolist())\n"
   ]
  },
  {
   "cell_type": "markdown",
   "metadata": {
    "id": "AC9wUCyALwB9"
   },
   "source": [
    "### 2. 請試著在程式中印出以下三個 NdArray 的屬性並且解釋結果？（屬性：ndim、shape、size、dtype、itemsize、length、type）\n",
    "\n",
    "```\n",
    "a = np.random.randint(10, size=6) \n",
    "b = np.random.randint(10, size=(3,4)) \n",
    "c = np.random.randint(10, size=(2,3,2)) \n",
    "```"
   ]
  },
  {
   "cell_type": "code",
   "execution_count": 2,
   "metadata": {
    "id": "4qARRsdtLwB-"
   },
   "outputs": [],
   "source": [
    "# 記得先 Import 正確的套件\n",
    "\n",
    "import numpy as np\n"
   ]
  },
  {
   "cell_type": "code",
   "execution_count": 7,
   "metadata": {
    "id": "e1gVI0tvsvFY",
    "outputId": "9be10770-9042-40c8-c4bc-217b84be9fc9"
   },
   "outputs": [
    {
     "name": "stdout",
     "output_type": "stream",
     "text": [
      "[9 4 7 1 8 1]\n",
      "陣列維度: 1\n",
      "每個維度的大小 (6,)\n",
      "陣列元素一共有 6\n",
      "陣列中的資料型態 int32\n",
      "陣列中每個元素佔用的空間 4\n",
      "陣列長度 6\n",
      "陣列的資料型態 <class 'numpy.ndarray'>\n"
     ]
    }
   ],
   "source": [
    "a = np.random.randint(10, size=6) \n",
    "print(a)\n",
    "print('陣列維度:',a.ndim)\n",
    "print('每個維度的大小',a.shape)\n",
    "print('陣列元素一共有',a.size)\n",
    "print('陣列中的資料型態',a.dtype)\n",
    "print('陣列中每個元素佔用的空間',a.itemsize)\n",
    "print('陣列長度',len(a))\n",
    "print('陣列的資料型態',type(a))"
   ]
  },
  {
   "cell_type": "code",
   "execution_count": 8,
   "metadata": {
    "id": "iIJrIr7kLwB_",
    "outputId": "083c5519-394c-404e-9764-100c4ed5118a"
   },
   "outputs": [
    {
     "name": "stdout",
     "output_type": "stream",
     "text": [
      "[[8 6 2 4]\n",
      " [6 6 5 8]\n",
      " [7 7 1 7]]\n",
      "陣列維度: 2\n",
      "每個維度的大小 (3, 4)\n",
      "陣列元素一共有 12\n",
      "陣列中的資料型態 int32\n",
      "陣列中每個元素佔用的空間 4\n",
      "陣列長度 3\n",
      "陣列的資料型態 <class 'numpy.ndarray'>\n"
     ]
    }
   ],
   "source": [
    "b = np.random.randint(10, size=(3,4)) \n",
    "print(b)\n",
    "print('陣列維度:',b.ndim)\n",
    "print('每個維度的大小',b.shape)\n",
    "print('陣列元素一共有',b.size)\n",
    "print('陣列中的資料型態',b.dtype)\n",
    "print('陣列中每個元素佔用的空間',b.itemsize)\n",
    "print('陣列長度',len(b))\n",
    "print('陣列的資料型態',type(b))"
   ]
  },
  {
   "cell_type": "code",
   "execution_count": 9,
   "metadata": {
    "id": "98SRFh_FLwCC",
    "outputId": "dc65dfac-9ae6-49d2-f854-88eccebc2aac"
   },
   "outputs": [
    {
     "name": "stdout",
     "output_type": "stream",
     "text": [
      "[[[5 2]\n",
      "  [3 1]\n",
      "  [5 8]]\n",
      "\n",
      " [[9 4]\n",
      "  [2 8]\n",
      "  [9 4]]]\n",
      "陣列維度: 3\n",
      "每個維度的大小 (2, 3, 2)\n",
      "陣列元素一共有 12\n",
      "陣列中的資料型態 int32\n",
      "陣列中每個元素佔用的空間 4\n",
      "陣列長度 2\n",
      "陣列的資料型態 <class 'numpy.ndarray'>\n"
     ]
    }
   ],
   "source": [
    "c = np.random.randint(10, size=(2,3,2))\n",
    "print(c)\n",
    "print('陣列維度:',c.ndim)\n",
    "print('每個維度的大小',c.shape)\n",
    "print('陣列元素一共有',c.size)\n",
    "print('陣列中的資料型態',c.dtype)\n",
    "print('陣列中每個元素佔用的空間',c.itemsize)\n",
    "print('陣列長度',len(c))\n",
    "print('陣列的資料型態',type(c))"
   ]
  },
  {
   "cell_type": "markdown",
   "metadata": {
    "id": "Uf6zC0QZLwCE"
   },
   "source": [
    "### 3. 如何利用 list(...) 實現 a.tolist() 的效果？試著用程式實作。\n"
   ]
  },
  {
   "cell_type": "code",
   "execution_count": null,
   "metadata": {
    "id": "sCUzHu_BLwCF",
    "outputId": "ba9c8945-8efb-42b1-f978-2bbdda97accd"
   },
   "outputs": [
    {
     "name": "stdout",
     "output_type": "stream",
     "text": [
      "[7, 6, 7, 3, 7, 5]\n",
      "[7, 6, 7, 3, 7, 5]\n"
     ]
    }
   ],
   "source": [
    "a = np.random.randint(10, size=6) \n",
    "\n",
    "print(a.tolist())\n",
    "print(list(a))\n"
   ]
  },
  {
   "cell_type": "code",
   "execution_count": null,
   "metadata": {
    "id": "IUkVtw8RLwCG",
    "outputId": "e39875a5-5ec7-431b-c12a-485acc167e44"
   },
   "outputs": [
    {
     "name": "stdout",
     "output_type": "stream",
     "text": [
      "[[5, 7, 4, 6], [9, 4, 0, 1], [9, 1, 2, 9]]\n",
      "[array([5, 7, 4, 6]), array([9, 4, 0, 1]), array([9, 1, 2, 9])]\n"
     ]
    }
   ],
   "source": [
    "b = np.random.randint(10, size=(3,4)) \n",
    "\n",
    "print(b.tolist())\n",
    "print(list(b))\n"
   ]
  },
  {
   "cell_type": "code",
   "execution_count": null,
   "metadata": {
    "id": "NPhF8_CqLwCG",
    "outputId": "51fab908-5bfd-415f-9584-92bb376648c8"
   },
   "outputs": [
    {
     "name": "stdout",
     "output_type": "stream",
     "text": [
      "[[[0, 4], [0, 1], [9, 5]], [[8, 7], [8, 2], [6, 0]]]\n",
      "[array([[0, 4],\n",
      "       [0, 1],\n",
      "       [9, 5]]), array([[8, 7],\n",
      "       [8, 2],\n",
      "       [6, 0]])]\n"
     ]
    }
   ],
   "source": [
    "c = np.random.randint(10, size=(2,3,2)) \n",
    "\n",
    "print(c.tolist())\n",
    "print(list(c))\n"
   ]
  },
  {
   "cell_type": "code",
   "execution_count": 10,
   "metadata": {
    "id": "3Hc8vQYtLwCH",
    "outputId": "1290bc93-84ca-4da4-eb1a-315da37afaff"
   },
   "outputs": [
    {
     "name": "stdout",
     "output_type": "stream",
     "text": [
      "[9, 4, 7, 1, 8, 1]\n",
      "[[8, 6, 2, 4], [6, 6, 5, 8], [7, 7, 1, 7]]\n",
      "[[[5, 2], [3, 1], [5, 8]], [[9, 4], [2, 8], [9, 4]]]\n"
     ]
    }
   ],
   "source": [
    "def tolist(iterable):\n",
    "    if type(iterable) != np.ndarray:\n",
    "        return iterable\n",
    "    newlist = []\n",
    "    for obj in iterable:\n",
    "        newlist.append(tolist(obj))\n",
    "    return list(newlist)\n",
    "\n",
    "print(tolist(a))\n",
    "print(tolist(b))\n",
    "print(tolist(c))"
   ]
  },
  {
   "cell_type": "code",
   "execution_count": null,
   "metadata": {
    "id": "2lDVOwFpLwCJ",
    "outputId": "ddfa84e4-3d32-4a68-c250-f57b2f66d830"
   },
   "outputs": [
    {
     "name": "stdout",
     "output_type": "stream",
     "text": [
      "[7, 6, 7, 3, 7, 5]\n",
      "[[5, 7, 4, 6], [9, 4, 0, 1], [9, 1, 2, 9]]\n",
      "[[[0, 4], [0, 1], [9, 5]], [[8, 7], [8, 2], [6, 0]]]\n"
     ]
    }
   ],
   "source": []
  },
  {
   "cell_type": "code",
   "execution_count": null,
   "metadata": {
    "id": "tvqCpuFILwCK"
   },
   "outputs": [],
   "source": []
  },
  {
   "cell_type": "code",
   "execution_count": null,
   "metadata": {
    "id": "640whg6NLwCK"
   },
   "outputs": [],
   "source": []
  }
 ],
 "metadata": {
  "colab": {
   "name": "01Homework_維元.ipynb",
   "provenance": []
  },
  "kernelspec": {
   "display_name": "Python 3 (ipykernel)",
   "language": "python",
   "name": "python3"
  },
  "language_info": {
   "codemirror_mode": {
    "name": "ipython",
    "version": 3
   },
   "file_extension": ".py",
   "mimetype": "text/x-python",
   "name": "python",
   "nbconvert_exporter": "python",
   "pygments_lexer": "ipython3",
   "version": "3.9.7"
  }
 },
 "nbformat": 4,
 "nbformat_minor": 1
}
