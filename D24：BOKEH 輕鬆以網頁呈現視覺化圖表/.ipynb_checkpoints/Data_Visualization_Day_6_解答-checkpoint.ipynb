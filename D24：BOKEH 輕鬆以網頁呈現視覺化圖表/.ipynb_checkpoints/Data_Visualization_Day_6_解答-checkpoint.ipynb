{
 "cells": [
  {
   "cell_type": "markdown",
   "metadata": {
    "colab_type": "text",
    "id": "xp4Wh9IFK_Ps"
   },
   "source": [
    "# 作業: 處理分類數據\n",
    "\n",
    "1.建立簡單的水果資料集\n",
    "fruits = ['Apples', 'Pears', 'Nectarines', 'Plums', 'Grapes', 'Strawberries']\n",
    "counts = [5, 3, 4, 2, 4, 6]\n",
    "\n",
    "2. 利用vbar\n",
    "水果名稱因子列表作為x 坐標，將條形高度作為top坐標，以及可選地width我們想要設置的任何屬性進行調用：\n",
    "\n",
    "p.vbar(x=fruits, top=[5, 3, 4, 2, 4, 6], width=0.9)\n",
    "\n",
    "3. 由於Bokeh會按順序顯示條形，因此在條形圖中“排序”條形與對范圍的因子進行排序相同。\n",
    "\n",
    "sorted_fruits = sorted(fruits, key=lambda x: counts[fruits.index(x)])\n"
   ]
  },
  {
   "cell_type": "code",
   "execution_count": 1,
   "metadata": {
    "colab": {
     "base_uri": "https://localhost:8080/",
     "height": 417
    },
    "colab_type": "code",
    "id": "FIsyxA8hvYOd",
    "outputId": "01790929-23d8-48eb-90b4-70454b7211d9"
   },
   "outputs": [
    {
     "ename": "RuntimeError",
     "evalue": "bokeh sample data directory does not exist, please execute bokeh.sampledata.download()",
     "output_type": "error",
     "traceback": [
      "\u001b[1;31m---------------------------------------------------------------------------\u001b[0m",
      "\u001b[1;31mRuntimeError\u001b[0m                              Traceback (most recent call last)",
      "\u001b[1;32m<ipython-input-1-4169e7b4ab25>\u001b[0m in \u001b[0;36m<module>\u001b[1;34m\u001b[0m\n\u001b[0;32m      2\u001b[0m \u001b[1;32mfrom\u001b[0m \u001b[0mbokeh\u001b[0m\u001b[1;33m.\u001b[0m\u001b[0mresources\u001b[0m \u001b[1;32mimport\u001b[0m \u001b[0mINLINE\u001b[0m\u001b[1;33m\u001b[0m\u001b[1;33m\u001b[0m\u001b[0m\n\u001b[0;32m      3\u001b[0m \u001b[1;32mfrom\u001b[0m \u001b[0mbokeh\u001b[0m\u001b[1;33m.\u001b[0m\u001b[0mplotting\u001b[0m \u001b[1;32mimport\u001b[0m \u001b[0mfigure\u001b[0m\u001b[1;33m,\u001b[0m \u001b[0moutput_file\u001b[0m\u001b[1;33m,\u001b[0m \u001b[0mshow\u001b[0m\u001b[1;33m,\u001b[0m \u001b[0moutput_notebook\u001b[0m\u001b[1;33m,\u001b[0m \u001b[0mColumnDataSource\u001b[0m\u001b[1;33m\u001b[0m\u001b[1;33m\u001b[0m\u001b[0m\n\u001b[1;32m----> 4\u001b[1;33m \u001b[1;32mfrom\u001b[0m \u001b[0mbokeh\u001b[0m\u001b[1;33m.\u001b[0m\u001b[0msampledata\u001b[0m\u001b[1;33m.\u001b[0m\u001b[0mstocks\u001b[0m \u001b[1;32mimport\u001b[0m \u001b[0mAAPL\u001b[0m\u001b[1;33m,\u001b[0m \u001b[0mGOOG\u001b[0m\u001b[1;33m,\u001b[0m \u001b[0mIBM\u001b[0m\u001b[1;33m,\u001b[0m \u001b[0mMSFT\u001b[0m\u001b[1;33m\u001b[0m\u001b[1;33m\u001b[0m\u001b[0m\n\u001b[0m\u001b[0;32m      5\u001b[0m \u001b[1;32mimport\u001b[0m \u001b[0mpandas\u001b[0m \u001b[1;32mas\u001b[0m \u001b[0mpd\u001b[0m\u001b[1;33m\u001b[0m\u001b[1;33m\u001b[0m\u001b[0m\n\u001b[0;32m      6\u001b[0m \u001b[1;33m\u001b[0m\u001b[0m\n",
      "\u001b[1;32m~\\Anaconda3\\lib\\site-packages\\bokeh\\sampledata\\stocks.py\u001b[0m in \u001b[0;36m<module>\u001b[1;34m\u001b[0m\n\u001b[0;32m     96\u001b[0m \u001b[1;31m#-----------------------------------------------------------------------------\u001b[0m\u001b[1;33m\u001b[0m\u001b[1;33m\u001b[0m\u001b[1;33m\u001b[0m\u001b[0m\n\u001b[0;32m     97\u001b[0m \u001b[1;33m\u001b[0m\u001b[0m\n\u001b[1;32m---> 98\u001b[1;33m \u001b[0mAAPL\u001b[0m \u001b[1;33m=\u001b[0m \u001b[0m_read_data\u001b[0m\u001b[1;33m(\u001b[0m\u001b[1;34m'AAPL'\u001b[0m\u001b[1;33m)\u001b[0m\u001b[1;33m\u001b[0m\u001b[1;33m\u001b[0m\u001b[0m\n\u001b[0m\u001b[0;32m     99\u001b[0m \u001b[0mFB\u001b[0m   \u001b[1;33m=\u001b[0m \u001b[0m_read_data\u001b[0m\u001b[1;33m(\u001b[0m\u001b[1;34m'FB'\u001b[0m\u001b[1;33m)\u001b[0m\u001b[1;33m\u001b[0m\u001b[1;33m\u001b[0m\u001b[0m\n\u001b[0;32m    100\u001b[0m \u001b[0mGOOG\u001b[0m \u001b[1;33m=\u001b[0m \u001b[0m_read_data\u001b[0m\u001b[1;33m(\u001b[0m\u001b[1;34m'GOOG'\u001b[0m\u001b[1;33m)\u001b[0m\u001b[1;33m\u001b[0m\u001b[1;33m\u001b[0m\u001b[0m\n",
      "\u001b[1;32m~\\Anaconda3\\lib\\site-packages\\bokeh\\sampledata\\stocks.py\u001b[0m in \u001b[0;36m_read_data\u001b[1;34m(name)\u001b[0m\n\u001b[0;32m     68\u001b[0m \u001b[1;33m\u001b[0m\u001b[0m\n\u001b[0;32m     69\u001b[0m     '''\n\u001b[1;32m---> 70\u001b[1;33m     \u001b[0mfilename\u001b[0m \u001b[1;33m=\u001b[0m \u001b[0mexternal_path\u001b[0m\u001b[1;33m(\u001b[0m\u001b[0mname\u001b[0m\u001b[1;33m+\u001b[0m\u001b[1;34m'.csv'\u001b[0m\u001b[1;33m)\u001b[0m\u001b[1;33m\u001b[0m\u001b[1;33m\u001b[0m\u001b[0m\n\u001b[0m\u001b[0;32m     71\u001b[0m     data = {\n\u001b[0;32m     72\u001b[0m         \u001b[1;34m'date'\u001b[0m \u001b[1;33m:\u001b[0m \u001b[1;33m[\u001b[0m\u001b[1;33m]\u001b[0m\u001b[1;33m,\u001b[0m\u001b[1;33m\u001b[0m\u001b[1;33m\u001b[0m\u001b[0m\n",
      "\u001b[1;32m~\\Anaconda3\\lib\\site-packages\\bokeh\\util\\sampledata.py\u001b[0m in \u001b[0;36mexternal_path\u001b[1;34m(filename)\u001b[0m\n\u001b[0;32m    121\u001b[0m \u001b[1;33m\u001b[0m\u001b[0m\n\u001b[0;32m    122\u001b[0m \u001b[1;32mdef\u001b[0m \u001b[0mexternal_path\u001b[0m\u001b[1;33m(\u001b[0m\u001b[0mfilename\u001b[0m\u001b[1;33m:\u001b[0m \u001b[0mstr\u001b[0m\u001b[1;33m)\u001b[0m \u001b[1;33m->\u001b[0m \u001b[0mstr\u001b[0m\u001b[1;33m:\u001b[0m\u001b[1;33m\u001b[0m\u001b[1;33m\u001b[0m\u001b[0m\n\u001b[1;32m--> 123\u001b[1;33m     \u001b[0mdata_dir\u001b[0m \u001b[1;33m=\u001b[0m \u001b[0mexternal_data_dir\u001b[0m\u001b[1;33m(\u001b[0m\u001b[1;33m)\u001b[0m\u001b[1;33m\u001b[0m\u001b[1;33m\u001b[0m\u001b[0m\n\u001b[0m\u001b[0;32m    124\u001b[0m     \u001b[0mfn\u001b[0m \u001b[1;33m=\u001b[0m \u001b[0mjoin\u001b[0m\u001b[1;33m(\u001b[0m\u001b[0mdata_dir\u001b[0m\u001b[1;33m,\u001b[0m \u001b[0mfilename\u001b[0m\u001b[1;33m)\u001b[0m\u001b[1;33m\u001b[0m\u001b[1;33m\u001b[0m\u001b[0m\n\u001b[0;32m    125\u001b[0m     \u001b[1;32mif\u001b[0m \u001b[1;32mnot\u001b[0m \u001b[0mexists\u001b[0m\u001b[1;33m(\u001b[0m\u001b[0mfn\u001b[0m\u001b[1;33m)\u001b[0m \u001b[1;32mand\u001b[0m \u001b[0misfile\u001b[0m\u001b[1;33m(\u001b[0m\u001b[0mfn\u001b[0m\u001b[1;33m)\u001b[0m\u001b[1;33m:\u001b[0m\u001b[1;33m\u001b[0m\u001b[1;33m\u001b[0m\u001b[0m\n",
      "\u001b[1;32m~\\Anaconda3\\lib\\site-packages\\bokeh\\util\\sampledata.py\u001b[0m in \u001b[0;36mexternal_data_dir\u001b[1;34m(create)\u001b[0m\n\u001b[0;32m    108\u001b[0m     \u001b[1;32mif\u001b[0m \u001b[1;32mnot\u001b[0m \u001b[0mexists\u001b[0m\u001b[1;33m(\u001b[0m\u001b[0mdata_dir\u001b[0m\u001b[1;33m)\u001b[0m\u001b[1;33m:\u001b[0m\u001b[1;33m\u001b[0m\u001b[1;33m\u001b[0m\u001b[0m\n\u001b[0;32m    109\u001b[0m         \u001b[1;32mif\u001b[0m \u001b[1;32mnot\u001b[0m \u001b[0mcreate\u001b[0m\u001b[1;33m:\u001b[0m\u001b[1;33m\u001b[0m\u001b[1;33m\u001b[0m\u001b[0m\n\u001b[1;32m--> 110\u001b[1;33m             \u001b[1;32mraise\u001b[0m \u001b[0mRuntimeError\u001b[0m\u001b[1;33m(\u001b[0m\u001b[1;34m'bokeh sample data directory does not exist, please execute bokeh.sampledata.download()'\u001b[0m\u001b[1;33m)\u001b[0m\u001b[1;33m\u001b[0m\u001b[1;33m\u001b[0m\u001b[0m\n\u001b[0m\u001b[0;32m    111\u001b[0m         \u001b[0mprint\u001b[0m\u001b[1;33m(\u001b[0m\u001b[1;34m\"Creating %s directory\"\u001b[0m \u001b[1;33m%\u001b[0m \u001b[0mdata_dir\u001b[0m\u001b[1;33m)\u001b[0m\u001b[1;33m\u001b[0m\u001b[1;33m\u001b[0m\u001b[0m\n\u001b[0;32m    112\u001b[0m         \u001b[1;32mtry\u001b[0m\u001b[1;33m:\u001b[0m\u001b[1;33m\u001b[0m\u001b[1;33m\u001b[0m\u001b[0m\n",
      "\u001b[1;31mRuntimeError\u001b[0m: bokeh sample data directory does not exist, please execute bokeh.sampledata.download()"
     ]
    }
   ],
   "source": [
    "import bokeh.io\n",
    "from bokeh.resources import INLINE\n",
    "from bokeh.plotting import figure, output_file, show, output_notebook, ColumnDataSource\n",
    "from bokeh.sampledata.stocks import AAPL, GOOG, IBM, MSFT\n",
    "import pandas as pd\n",
    "\n",
    "# 環境 settings\n",
    "bokeh.io.reset_output()\n",
    "bokeh.io.output_notebook(INLINE)\n",
    "\n"
   ]
  },
  {
   "cell_type": "code",
   "execution_count": 8,
   "metadata": {},
   "outputs": [
    {
     "data": {
      "text/html": [
       "\n",
       "\n",
       "\n",
       "\n",
       "\n",
       "\n",
       "  <div class=\"bk-root\" id=\"3c0183f8-b473-4ff2-9885-55ba9774cb65\" data-root-id=\"1896\"></div>\n"
      ]
     },
     "metadata": {},
     "output_type": "display_data"
    },
    {
     "data": {
      "application/javascript": [
       "(function(root) {\n",
       "  function embed_document(root) {\n",
       "    \n",
       "  var docs_json = {\"aef250dc-ba37-44c1-84b9-553c5a0dd3fa\":{\"roots\":{\"references\":[{\"attributes\":{\"below\":[{\"id\":\"1907\"}],\"center\":[{\"id\":\"1909\"},{\"id\":\"1913\"}],\"left\":[{\"id\":\"1910\"}],\"plot_height\":250,\"renderers\":[{\"id\":\"1918\"}],\"title\":{\"id\":\"1897\"},\"toolbar\":{\"id\":\"1914\"},\"toolbar_location\":null,\"x_range\":{\"id\":\"1899\"},\"x_scale\":{\"id\":\"1903\"},\"y_range\":{\"id\":\"1901\"},\"y_scale\":{\"id\":\"1905\"}},\"id\":\"1896\",\"subtype\":\"Figure\",\"type\":\"Plot\"},{\"attributes\":{\"source\":{\"id\":\"1915\"}},\"id\":\"1919\",\"type\":\"CDSView\"},{\"attributes\":{},\"id\":\"1903\",\"type\":\"CategoricalScale\"},{\"attributes\":{},\"id\":\"1908\",\"type\":\"CategoricalTicker\"},{\"attributes\":{\"formatter\":{\"id\":\"1964\"},\"ticker\":{\"id\":\"1908\"}},\"id\":\"1907\",\"type\":\"CategoricalAxis\"},{\"attributes\":{\"axis\":{\"id\":\"1910\"},\"dimension\":1,\"ticker\":null},\"id\":\"1913\",\"type\":\"Grid\"},{\"attributes\":{\"fill_alpha\":{\"value\":0.1},\"fill_color\":{\"value\":\"#1f77b4\"},\"line_alpha\":{\"value\":0.1},\"line_color\":{\"value\":\"#1f77b4\"},\"top\":{\"field\":\"top\"},\"width\":{\"value\":0.9},\"x\":{\"field\":\"x\"}},\"id\":\"1917\",\"type\":\"VBar\"},{\"attributes\":{\"formatter\":{\"id\":\"1962\"},\"ticker\":{\"id\":\"1911\"}},\"id\":\"1910\",\"type\":\"LinearAxis\"},{\"attributes\":{\"start\":0},\"id\":\"1901\",\"type\":\"DataRange1d\"},{\"attributes\":{\"text\":\"Fruit Counts\"},\"id\":\"1897\",\"type\":\"Title\"},{\"attributes\":{\"factors\":[\"Apples\",\"Pears\",\"Nectarines\",\"Plums\",\"Grapes\",\"Strawberries\"]},\"id\":\"1899\",\"type\":\"FactorRange\"},{\"attributes\":{},\"id\":\"1911\",\"type\":\"BasicTicker\"},{\"attributes\":{\"active_drag\":\"auto\",\"active_inspect\":\"auto\",\"active_multi\":null,\"active_scroll\":\"auto\",\"active_tap\":\"auto\"},\"id\":\"1914\",\"type\":\"Toolbar\"},{\"attributes\":{\"axis\":{\"id\":\"1907\"},\"ticker\":null},\"id\":\"1909\",\"type\":\"Grid\"},{\"attributes\":{},\"id\":\"1962\",\"type\":\"BasicTickFormatter\"},{\"attributes\":{},\"id\":\"1964\",\"type\":\"CategoricalTickFormatter\"},{\"attributes\":{\"data\":{\"top\":[5,3,4,2,4,6],\"x\":[\"Apples\",\"Pears\",\"Nectarines\",\"Plums\",\"Grapes\",\"Strawberries\"]},\"selected\":{\"id\":\"1966\"},\"selection_policy\":{\"id\":\"1965\"}},\"id\":\"1915\",\"type\":\"ColumnDataSource\"},{\"attributes\":{\"data_source\":{\"id\":\"1915\"},\"glyph\":{\"id\":\"1916\"},\"hover_glyph\":null,\"muted_glyph\":null,\"nonselection_glyph\":{\"id\":\"1917\"},\"selection_glyph\":null,\"view\":{\"id\":\"1919\"}},\"id\":\"1918\",\"type\":\"GlyphRenderer\"},{\"attributes\":{\"fill_color\":{\"value\":\"#1f77b4\"},\"line_color\":{\"value\":\"#1f77b4\"},\"top\":{\"field\":\"top\"},\"width\":{\"value\":0.9},\"x\":{\"field\":\"x\"}},\"id\":\"1916\",\"type\":\"VBar\"},{\"attributes\":{},\"id\":\"1905\",\"type\":\"LinearScale\"},{\"attributes\":{},\"id\":\"1965\",\"type\":\"UnionRenderers\"},{\"attributes\":{},\"id\":\"1966\",\"type\":\"Selection\"}],\"root_ids\":[\"1896\"]},\"title\":\"Bokeh Application\",\"version\":\"2.2.3\"}};\n",
       "  var render_items = [{\"docid\":\"aef250dc-ba37-44c1-84b9-553c5a0dd3fa\",\"root_ids\":[\"1896\"],\"roots\":{\"1896\":\"3c0183f8-b473-4ff2-9885-55ba9774cb65\"}}];\n",
       "  root.Bokeh.embed.embed_items_notebook(docs_json, render_items);\n",
       "\n",
       "  }\n",
       "  if (root.Bokeh !== undefined) {\n",
       "    embed_document(root);\n",
       "  } else {\n",
       "    var attempts = 0;\n",
       "    var timer = setInterval(function(root) {\n",
       "      if (root.Bokeh !== undefined) {\n",
       "        clearInterval(timer);\n",
       "        embed_document(root);\n",
       "      } else {\n",
       "        attempts++;\n",
       "        if (attempts > 100) {\n",
       "          clearInterval(timer);\n",
       "          console.log(\"Bokeh: ERROR: Unable to run BokehJS code because BokehJS library is missing\");\n",
       "        }\n",
       "      }\n",
       "    }, 10, root)\n",
       "  }\n",
       "})(window);"
      ],
      "application/vnd.bokehjs_exec.v0+json": ""
     },
     "metadata": {
      "application/vnd.bokehjs_exec.v0+json": {
       "id": "1896"
      }
     },
     "output_type": "display_data"
    }
   ],
   "source": [
    "output_file(\"bars.html\")\n",
    "\n",
    "#給定資料\n",
    "fruits = ['Apples', 'Pears', 'Nectarines', 'Plums', 'Grapes', 'Strawberries']\n",
    "counts = [5, 3, 4, 2, 4, 6]\n",
    "\n",
    "# 不增設按鈕 toolbar_location=None, tools=\"\"\n",
    "# plot_height 設定條形高度\n",
    "#配置圖表\n",
    "p = figure(x_range=fruits, plot_height=250, title=\"Fruit Counts\",\n",
    "           toolbar_location=None, tools=\"\")\n",
    "\n",
    "p.vbar(x=fruits, top=counts, width=0.9)\n",
    "\n",
    "#Y座標從0開始\n",
    "p.y_range.start = 0\n",
    "\n",
    "show(p)\n"
   ]
  },
  {
   "cell_type": "markdown",
   "metadata": {},
   "source": [
    "#### 有兩種排序想法"
   ]
  },
  {
   "cell_type": "markdown",
   "metadata": {},
   "source": [
    "對 counts 做順序排列"
   ]
  },
  {
   "cell_type": "code",
   "execution_count": 45,
   "metadata": {},
   "outputs": [
    {
     "data": {
      "text/html": [
       "\n",
       "\n",
       "\n",
       "\n",
       "\n",
       "\n",
       "  <div class=\"bk-root\" id=\"319eaba1-61d9-4a1a-bf02-158b09abc2d0\" data-root-id=\"4837\"></div>\n"
      ]
     },
     "metadata": {},
     "output_type": "display_data"
    },
    {
     "data": {
      "application/javascript": [
       "(function(root) {\n",
       "  function embed_document(root) {\n",
       "    \n",
       "  var docs_json = {\"6c8a3e5b-7dfb-472a-899e-544a7b1b280f\":{\"roots\":{\"references\":[{\"attributes\":{\"below\":[{\"id\":\"4848\"}],\"center\":[{\"id\":\"4850\"},{\"id\":\"4854\"}],\"left\":[{\"id\":\"4851\"}],\"plot_height\":250,\"renderers\":[{\"id\":\"4859\"}],\"title\":{\"id\":\"4838\"},\"toolbar\":{\"id\":\"4855\"},\"toolbar_location\":null,\"x_range\":{\"id\":\"4840\"},\"x_scale\":{\"id\":\"4844\"},\"y_range\":{\"id\":\"4842\"},\"y_scale\":{\"id\":\"4846\"}},\"id\":\"4837\",\"subtype\":\"Figure\",\"type\":\"Plot\"},{\"attributes\":{\"data\":{\"top\":[2,3,4,4,5,6],\"x\":[\"Plums\",\"Pears\",\"Nectarines\",\"Grapes\",\"Apples\",\"Strawberries\"]},\"selected\":{\"id\":\"4998\"},\"selection_policy\":{\"id\":\"4997\"}},\"id\":\"4856\",\"type\":\"ColumnDataSource\"},{\"attributes\":{\"data_source\":{\"id\":\"4856\"},\"glyph\":{\"id\":\"4857\"},\"hover_glyph\":null,\"muted_glyph\":null,\"nonselection_glyph\":{\"id\":\"4858\"},\"selection_glyph\":null,\"view\":{\"id\":\"4860\"}},\"id\":\"4859\",\"type\":\"GlyphRenderer\"},{\"attributes\":{\"source\":{\"id\":\"4856\"}},\"id\":\"4860\",\"type\":\"CDSView\"},{\"attributes\":{\"text\":\"Fruit Counts\"},\"id\":\"4838\",\"type\":\"Title\"},{\"attributes\":{\"factors\":[\"Plums\",\"Pears\",\"Nectarines\",\"Grapes\",\"Apples\",\"Strawberries\"]},\"id\":\"4840\",\"type\":\"FactorRange\"},{\"attributes\":{\"fill_color\":{\"value\":\"#1f77b4\"},\"line_color\":{\"value\":\"#1f77b4\"},\"top\":{\"field\":\"top\"},\"width\":{\"value\":0.9},\"x\":{\"field\":\"x\"}},\"id\":\"4857\",\"type\":\"VBar\"},{\"attributes\":{\"formatter\":{\"id\":\"4996\"},\"ticker\":{\"id\":\"4849\"}},\"id\":\"4848\",\"type\":\"CategoricalAxis\"},{\"attributes\":{\"start\":0},\"id\":\"4842\",\"type\":\"DataRange1d\"},{\"attributes\":{\"formatter\":{\"id\":\"4994\"},\"ticker\":{\"id\":\"4852\"}},\"id\":\"4851\",\"type\":\"LinearAxis\"},{\"attributes\":{},\"id\":\"4846\",\"type\":\"LinearScale\"},{\"attributes\":{},\"id\":\"4844\",\"type\":\"CategoricalScale\"},{\"attributes\":{},\"id\":\"4849\",\"type\":\"CategoricalTicker\"},{\"attributes\":{\"axis\":{\"id\":\"4848\"},\"ticker\":null},\"id\":\"4850\",\"type\":\"Grid\"},{\"attributes\":{\"axis\":{\"id\":\"4851\"},\"dimension\":1,\"ticker\":null},\"id\":\"4854\",\"type\":\"Grid\"},{\"attributes\":{},\"id\":\"4994\",\"type\":\"BasicTickFormatter\"},{\"attributes\":{},\"id\":\"4852\",\"type\":\"BasicTicker\"},{\"attributes\":{\"active_drag\":\"auto\",\"active_inspect\":\"auto\",\"active_multi\":null,\"active_scroll\":\"auto\",\"active_tap\":\"auto\"},\"id\":\"4855\",\"type\":\"Toolbar\"},{\"attributes\":{},\"id\":\"4996\",\"type\":\"CategoricalTickFormatter\"},{\"attributes\":{\"fill_alpha\":{\"value\":0.1},\"fill_color\":{\"value\":\"#1f77b4\"},\"line_alpha\":{\"value\":0.1},\"line_color\":{\"value\":\"#1f77b4\"},\"top\":{\"field\":\"top\"},\"width\":{\"value\":0.9},\"x\":{\"field\":\"x\"}},\"id\":\"4858\",\"type\":\"VBar\"},{\"attributes\":{},\"id\":\"4998\",\"type\":\"Selection\"},{\"attributes\":{},\"id\":\"4997\",\"type\":\"UnionRenderers\"}],\"root_ids\":[\"4837\"]},\"title\":\"Bokeh Application\",\"version\":\"2.2.3\"}};\n",
       "  var render_items = [{\"docid\":\"6c8a3e5b-7dfb-472a-899e-544a7b1b280f\",\"root_ids\":[\"4837\"],\"roots\":{\"4837\":\"319eaba1-61d9-4a1a-bf02-158b09abc2d0\"}}];\n",
       "  root.Bokeh.embed.embed_items_notebook(docs_json, render_items);\n",
       "\n",
       "  }\n",
       "  if (root.Bokeh !== undefined) {\n",
       "    embed_document(root);\n",
       "  } else {\n",
       "    var attempts = 0;\n",
       "    var timer = setInterval(function(root) {\n",
       "      if (root.Bokeh !== undefined) {\n",
       "        clearInterval(timer);\n",
       "        embed_document(root);\n",
       "      } else {\n",
       "        attempts++;\n",
       "        if (attempts > 100) {\n",
       "          clearInterval(timer);\n",
       "          console.log(\"Bokeh: ERROR: Unable to run BokehJS code because BokehJS library is missing\");\n",
       "        }\n",
       "      }\n",
       "    }, 10, root)\n",
       "  }\n",
       "})(window);"
      ],
      "application/vnd.bokehjs_exec.v0+json": ""
     },
     "metadata": {
      "application/vnd.bokehjs_exec.v0+json": {
       "id": "4837"
      }
     },
     "output_type": "display_data"
    }
   ],
   "source": [
    "output_file(\"fruits_sorted.html\")\n",
    "\n",
    "fruits = ['Apples', 'Pears', 'Nectarines', 'Plums', 'Grapes', 'Strawberries']\n",
    "counts = [5, 3, 4, 2, 4, 6]\n",
    "\n",
    "sorted_fruits = sorted(fruits, key=lambda x: counts[fruits.index(x)])\n",
    "sorted_counts = sorted(counts, key=lambda x:x)\n",
    "\n",
    "#配置圖表\n",
    "p = figure(x_range=sorted_fruits, plot_height=250, title=\"Fruit Counts\",\n",
    "           toolbar_location=None, tools=\"\")\n",
    "\n",
    "p.vbar(x=sorted_fruits, top=sorted_counts, width=0.9)\n",
    "\n",
    "p.y_range.start = 0\n",
    "\n",
    "show(p)"
   ]
  },
  {
   "cell_type": "markdown",
   "metadata": {},
   "source": [
    "對 fruits 做順序排列"
   ]
  },
  {
   "cell_type": "code",
   "execution_count": 47,
   "metadata": {},
   "outputs": [
    {
     "data": {
      "text/html": [
       "\n",
       "\n",
       "\n",
       "\n",
       "\n",
       "\n",
       "  <div class=\"bk-root\" id=\"43334f4e-cc73-4527-80dd-af626a454268\" data-root-id=\"5112\"></div>\n"
      ]
     },
     "metadata": {},
     "output_type": "display_data"
    },
    {
     "data": {
      "application/javascript": [
       "(function(root) {\n",
       "  function embed_document(root) {\n",
       "    \n",
       "  var docs_json = {\"1ece20cd-7281-4bf8-a3d0-f93be9ab5820\":{\"roots\":{\"references\":[{\"attributes\":{\"below\":[{\"id\":\"5123\"}],\"center\":[{\"id\":\"5125\"},{\"id\":\"5129\"}],\"left\":[{\"id\":\"5126\"}],\"plot_height\":250,\"renderers\":[{\"id\":\"5134\"}],\"title\":{\"id\":\"5113\"},\"toolbar\":{\"id\":\"5130\"},\"toolbar_location\":null,\"x_range\":{\"id\":\"5115\"},\"x_scale\":{\"id\":\"5119\"},\"y_range\":{\"id\":\"5117\"},\"y_scale\":{\"id\":\"5121\"}},\"id\":\"5112\",\"subtype\":\"Figure\",\"type\":\"Plot\"},{\"attributes\":{\"data_source\":{\"id\":\"5131\"},\"glyph\":{\"id\":\"5132\"},\"hover_glyph\":null,\"muted_glyph\":null,\"nonselection_glyph\":{\"id\":\"5133\"},\"selection_glyph\":null,\"view\":{\"id\":\"5135\"}},\"id\":\"5134\",\"type\":\"GlyphRenderer\"},{\"attributes\":{\"source\":{\"id\":\"5131\"}},\"id\":\"5135\",\"type\":\"CDSView\"},{\"attributes\":{\"fill_color\":{\"value\":\"#1f77b4\"},\"line_color\":{\"value\":\"#1f77b4\"},\"top\":{\"field\":\"top\"},\"width\":{\"value\":0.9},\"x\":{\"field\":\"x\"}},\"id\":\"5132\",\"type\":\"VBar\"},{\"attributes\":{\"data\":{\"top\":[5,3,4,2,4,6],\"x\":[\"Apples\",\"Pears\",\"Nectarines\",\"Plums\",\"Grapes\",\"Strawberries\"]},\"selected\":{\"id\":\"5280\"},\"selection_policy\":{\"id\":\"5279\"}},\"id\":\"5131\",\"type\":\"ColumnDataSource\"},{\"attributes\":{\"formatter\":{\"id\":\"5278\"},\"ticker\":{\"id\":\"5124\"}},\"id\":\"5123\",\"type\":\"CategoricalAxis\"},{\"attributes\":{\"text\":\"Fruit Counts\"},\"id\":\"5113\",\"type\":\"Title\"},{\"attributes\":{},\"id\":\"5276\",\"type\":\"BasicTickFormatter\"},{\"attributes\":{\"factors\":[\"Plums\",\"Pears\",\"Nectarines\",\"Grapes\",\"Apples\",\"Strawberries\"]},\"id\":\"5115\",\"type\":\"FactorRange\"},{\"attributes\":{\"start\":0},\"id\":\"5117\",\"type\":\"DataRange1d\"},{\"attributes\":{},\"id\":\"5278\",\"type\":\"CategoricalTickFormatter\"},{\"attributes\":{\"formatter\":{\"id\":\"5276\"},\"ticker\":{\"id\":\"5127\"}},\"id\":\"5126\",\"type\":\"LinearAxis\"},{\"attributes\":{},\"id\":\"5121\",\"type\":\"LinearScale\"},{\"attributes\":{},\"id\":\"5119\",\"type\":\"CategoricalScale\"},{\"attributes\":{},\"id\":\"5124\",\"type\":\"CategoricalTicker\"},{\"attributes\":{\"axis\":{\"id\":\"5123\"},\"ticker\":null},\"id\":\"5125\",\"type\":\"Grid\"},{\"attributes\":{\"axis\":{\"id\":\"5126\"},\"dimension\":1,\"ticker\":null},\"id\":\"5129\",\"type\":\"Grid\"},{\"attributes\":{},\"id\":\"5127\",\"type\":\"BasicTicker\"},{\"attributes\":{\"active_drag\":\"auto\",\"active_inspect\":\"auto\",\"active_multi\":null,\"active_scroll\":\"auto\",\"active_tap\":\"auto\"},\"id\":\"5130\",\"type\":\"Toolbar\"},{\"attributes\":{\"fill_alpha\":{\"value\":0.1},\"fill_color\":{\"value\":\"#1f77b4\"},\"line_alpha\":{\"value\":0.1},\"line_color\":{\"value\":\"#1f77b4\"},\"top\":{\"field\":\"top\"},\"width\":{\"value\":0.9},\"x\":{\"field\":\"x\"}},\"id\":\"5133\",\"type\":\"VBar\"},{\"attributes\":{},\"id\":\"5279\",\"type\":\"UnionRenderers\"},{\"attributes\":{},\"id\":\"5280\",\"type\":\"Selection\"}],\"root_ids\":[\"5112\"]},\"title\":\"Bokeh Application\",\"version\":\"2.2.3\"}};\n",
       "  var render_items = [{\"docid\":\"1ece20cd-7281-4bf8-a3d0-f93be9ab5820\",\"root_ids\":[\"5112\"],\"roots\":{\"5112\":\"43334f4e-cc73-4527-80dd-af626a454268\"}}];\n",
       "  root.Bokeh.embed.embed_items_notebook(docs_json, render_items);\n",
       "\n",
       "  }\n",
       "  if (root.Bokeh !== undefined) {\n",
       "    embed_document(root);\n",
       "  } else {\n",
       "    var attempts = 0;\n",
       "    var timer = setInterval(function(root) {\n",
       "      if (root.Bokeh !== undefined) {\n",
       "        clearInterval(timer);\n",
       "        embed_document(root);\n",
       "      } else {\n",
       "        attempts++;\n",
       "        if (attempts > 100) {\n",
       "          clearInterval(timer);\n",
       "          console.log(\"Bokeh: ERROR: Unable to run BokehJS code because BokehJS library is missing\");\n",
       "        }\n",
       "      }\n",
       "    }, 10, root)\n",
       "  }\n",
       "})(window);"
      ],
      "application/vnd.bokehjs_exec.v0+json": ""
     },
     "metadata": {
      "application/vnd.bokehjs_exec.v0+json": {
       "id": "5112"
      }
     },
     "output_type": "display_data"
    }
   ],
   "source": [
    "output_file(\"fruits_sorted.html\")\n",
    "\n",
    "fruits = ['Apples', 'Pears', 'Nectarines', 'Plums', 'Grapes', 'Strawberries']\n",
    "counts = [5, 3, 4, 2, 4, 6]\n",
    "\n",
    "sorted_fruits = sorted(fruits, key=lambda x: counts[fruits.index(x)])\n",
    "\n",
    "#配置圖表\n",
    "p = figure(x_range=sorted_fruits, plot_height=250, title=\"Fruit Counts\",\n",
    "           toolbar_location=None, tools=\"\")\n",
    "\n",
    "p.vbar(x=fruits, top=counts, width=0.9)\n",
    "\n",
    "p.y_range.start = 0\n",
    "\n",
    "show(p)"
   ]
  },
  {
   "cell_type": "code",
   "execution_count": null,
   "metadata": {},
   "outputs": [],
   "source": []
  }
 ],
 "metadata": {
  "colab": {
   "name": "Data Visualization_Day-6_作業.ipynb",
   "provenance": []
  },
  "kernelspec": {
   "display_name": "Python 3",
   "language": "python",
   "name": "python3"
  },
  "language_info": {
   "codemirror_mode": {
    "name": "ipython",
    "version": 3
   },
   "file_extension": ".py",
   "mimetype": "text/x-python",
   "name": "python",
   "nbconvert_exporter": "python",
   "pygments_lexer": "ipython3",
   "version": "3.8.5"
  }
 },
 "nbformat": 4,
 "nbformat_minor": 4
}
